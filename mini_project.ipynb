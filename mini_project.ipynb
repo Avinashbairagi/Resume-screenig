{
 "cells": [
  {
   "cell_type": "code",
   "execution_count": 4,
   "id": "a510168c",
   "metadata": {},
   "outputs": [
    {
     "data": {
      "text/plain": [
       "{'Imagae Name': [], 'pan_number': [], 'dob': []}"
      ]
     },
     "execution_count": 4,
     "metadata": {},
     "output_type": "execute_result"
    }
   ],
   "source": [
    "import pytesseract\n",
    "\n",
    "tesseract_path = r'C:\\Program Files\\Tesseract-OCR\\tesseract.exe'\n",
    "\n",
    "pytesseract.pytesseract.tesseract_cmd = tesseract_path\n",
    "\n",
    "text = pytesseract.image_to_string('pan1.jpg')\n",
    "# print(text)\n",
    "\n",
    "\n",
    "pan_list = []\n",
    "\n",
    "\n",
    "pan_data = {\n",
    "    'Imagae Name': [],\n",
    "    'pan_number': [],\n",
    "    'dob':[]\n",
    "}\n",
    "\n",
    "aadhar_data = {\n",
    "    'Image Name':[],\n",
    "    'dob'= []\n",
    "}\n",
    "\n",
    "data"
   ]
  },
  {
   "cell_type": "code",
   "execution_count": null,
   "id": "c142e4af",
   "metadata": {},
   "outputs": [],
   "source": []
  }
 ],
 "metadata": {
  "kernelspec": {
   "display_name": "Python 3 (ipykernel)",
   "language": "python",
   "name": "python3"
  },
  "language_info": {
   "codemirror_mode": {
    "name": "ipython",
    "version": 3
   },
   "file_extension": ".py",
   "mimetype": "text/x-python",
   "name": "python",
   "nbconvert_exporter": "python",
   "pygments_lexer": "ipython3",
   "version": "3.9.13"
  }
 },
 "nbformat": 4,
 "nbformat_minor": 5
}
